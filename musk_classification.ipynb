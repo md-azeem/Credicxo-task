{
 "cells": [
  {
   "cell_type": "markdown",
   "metadata": {},
   "source": [
    "_Importing usual libraries_"
   ]
  },
  {
   "cell_type": "code",
   "execution_count": 1,
   "metadata": {},
   "outputs": [],
   "source": [
    "import pandas as pd\n",
    "import seaborn as sns\n",
    "import matplotlib.pyplot as plt"
   ]
  },
  {
   "cell_type": "markdown",
   "metadata": {},
   "source": [
    "Loading dataset"
   ]
  },
  {
   "cell_type": "code",
   "execution_count": 3,
   "metadata": {},
   "outputs": [],
   "source": [
    "df = pd.read_csv('C://Users//user//Downloads/musk_csv.csv')"
   ]
  },
  {
   "cell_type": "code",
   "execution_count": 4,
   "metadata": {},
   "outputs": [
    {
     "data": {
      "text/html": [
       "<div>\n",
       "<style scoped>\n",
       "    .dataframe tbody tr th:only-of-type {\n",
       "        vertical-align: middle;\n",
       "    }\n",
       "\n",
       "    .dataframe tbody tr th {\n",
       "        vertical-align: top;\n",
       "    }\n",
       "\n",
       "    .dataframe thead th {\n",
       "        text-align: right;\n",
       "    }\n",
       "</style>\n",
       "<table border=\"1\" class=\"dataframe\">\n",
       "  <thead>\n",
       "    <tr style=\"text-align: right;\">\n",
       "      <th></th>\n",
       "      <th>ID</th>\n",
       "      <th>molecule_name</th>\n",
       "      <th>conformation_name</th>\n",
       "      <th>f1</th>\n",
       "      <th>f2</th>\n",
       "      <th>f3</th>\n",
       "      <th>f4</th>\n",
       "      <th>f5</th>\n",
       "      <th>f6</th>\n",
       "      <th>f7</th>\n",
       "      <th>...</th>\n",
       "      <th>f158</th>\n",
       "      <th>f159</th>\n",
       "      <th>f160</th>\n",
       "      <th>f161</th>\n",
       "      <th>f162</th>\n",
       "      <th>f163</th>\n",
       "      <th>f164</th>\n",
       "      <th>f165</th>\n",
       "      <th>f166</th>\n",
       "      <th>class</th>\n",
       "    </tr>\n",
       "  </thead>\n",
       "  <tbody>\n",
       "    <tr>\n",
       "      <th>0</th>\n",
       "      <td>1</td>\n",
       "      <td>MUSK-211</td>\n",
       "      <td>211_1+1</td>\n",
       "      <td>46</td>\n",
       "      <td>-108</td>\n",
       "      <td>-60</td>\n",
       "      <td>-69</td>\n",
       "      <td>-117</td>\n",
       "      <td>49</td>\n",
       "      <td>38</td>\n",
       "      <td>...</td>\n",
       "      <td>-308</td>\n",
       "      <td>52</td>\n",
       "      <td>-7</td>\n",
       "      <td>39</td>\n",
       "      <td>126</td>\n",
       "      <td>156</td>\n",
       "      <td>-50</td>\n",
       "      <td>-112</td>\n",
       "      <td>96</td>\n",
       "      <td>1</td>\n",
       "    </tr>\n",
       "    <tr>\n",
       "      <th>1</th>\n",
       "      <td>2</td>\n",
       "      <td>MUSK-211</td>\n",
       "      <td>211_1+10</td>\n",
       "      <td>41</td>\n",
       "      <td>-188</td>\n",
       "      <td>-145</td>\n",
       "      <td>22</td>\n",
       "      <td>-117</td>\n",
       "      <td>-6</td>\n",
       "      <td>57</td>\n",
       "      <td>...</td>\n",
       "      <td>-59</td>\n",
       "      <td>-2</td>\n",
       "      <td>52</td>\n",
       "      <td>103</td>\n",
       "      <td>136</td>\n",
       "      <td>169</td>\n",
       "      <td>-61</td>\n",
       "      <td>-136</td>\n",
       "      <td>79</td>\n",
       "      <td>1</td>\n",
       "    </tr>\n",
       "    <tr>\n",
       "      <th>2</th>\n",
       "      <td>3</td>\n",
       "      <td>MUSK-211</td>\n",
       "      <td>211_1+11</td>\n",
       "      <td>46</td>\n",
       "      <td>-194</td>\n",
       "      <td>-145</td>\n",
       "      <td>28</td>\n",
       "      <td>-117</td>\n",
       "      <td>73</td>\n",
       "      <td>57</td>\n",
       "      <td>...</td>\n",
       "      <td>-134</td>\n",
       "      <td>-154</td>\n",
       "      <td>57</td>\n",
       "      <td>143</td>\n",
       "      <td>142</td>\n",
       "      <td>165</td>\n",
       "      <td>-67</td>\n",
       "      <td>-145</td>\n",
       "      <td>39</td>\n",
       "      <td>1</td>\n",
       "    </tr>\n",
       "    <tr>\n",
       "      <th>3</th>\n",
       "      <td>4</td>\n",
       "      <td>MUSK-211</td>\n",
       "      <td>211_1+12</td>\n",
       "      <td>41</td>\n",
       "      <td>-188</td>\n",
       "      <td>-145</td>\n",
       "      <td>22</td>\n",
       "      <td>-117</td>\n",
       "      <td>-7</td>\n",
       "      <td>57</td>\n",
       "      <td>...</td>\n",
       "      <td>-60</td>\n",
       "      <td>-4</td>\n",
       "      <td>52</td>\n",
       "      <td>104</td>\n",
       "      <td>136</td>\n",
       "      <td>168</td>\n",
       "      <td>-60</td>\n",
       "      <td>-135</td>\n",
       "      <td>80</td>\n",
       "      <td>1</td>\n",
       "    </tr>\n",
       "    <tr>\n",
       "      <th>4</th>\n",
       "      <td>5</td>\n",
       "      <td>MUSK-211</td>\n",
       "      <td>211_1+13</td>\n",
       "      <td>41</td>\n",
       "      <td>-188</td>\n",
       "      <td>-145</td>\n",
       "      <td>22</td>\n",
       "      <td>-117</td>\n",
       "      <td>-7</td>\n",
       "      <td>57</td>\n",
       "      <td>...</td>\n",
       "      <td>-60</td>\n",
       "      <td>-4</td>\n",
       "      <td>52</td>\n",
       "      <td>104</td>\n",
       "      <td>137</td>\n",
       "      <td>168</td>\n",
       "      <td>-60</td>\n",
       "      <td>-135</td>\n",
       "      <td>80</td>\n",
       "      <td>1</td>\n",
       "    </tr>\n",
       "  </tbody>\n",
       "</table>\n",
       "<p>5 rows × 170 columns</p>\n",
       "</div>"
      ],
      "text/plain": [
       "   ID molecule_name conformation_name  f1   f2   f3  f4   f5  f6  f7  ...  \\\n",
       "0   1      MUSK-211           211_1+1  46 -108  -60 -69 -117  49  38  ...   \n",
       "1   2      MUSK-211          211_1+10  41 -188 -145  22 -117  -6  57  ...   \n",
       "2   3      MUSK-211          211_1+11  46 -194 -145  28 -117  73  57  ...   \n",
       "3   4      MUSK-211          211_1+12  41 -188 -145  22 -117  -7  57  ...   \n",
       "4   5      MUSK-211          211_1+13  41 -188 -145  22 -117  -7  57  ...   \n",
       "\n",
       "   f158  f159  f160  f161  f162  f163  f164  f165  f166  class  \n",
       "0  -308    52    -7    39   126   156   -50  -112    96      1  \n",
       "1   -59    -2    52   103   136   169   -61  -136    79      1  \n",
       "2  -134  -154    57   143   142   165   -67  -145    39      1  \n",
       "3   -60    -4    52   104   136   168   -60  -135    80      1  \n",
       "4   -60    -4    52   104   137   168   -60  -135    80      1  \n",
       "\n",
       "[5 rows x 170 columns]"
      ]
     },
     "execution_count": 4,
     "metadata": {},
     "output_type": "execute_result"
    }
   ],
   "source": [
    "df.head()"
   ]
  },
  {
   "cell_type": "markdown",
   "metadata": {},
   "source": [
    "# Observing Dataset"
   ]
  },
  {
   "cell_type": "code",
   "execution_count": 5,
   "metadata": {},
   "outputs": [
    {
     "data": {
      "image/png": "[encoded data removed]",
      "text/plain": [
       "<Figure size 432x288 with 1 Axes>"
      ]
     },
     "metadata": {},
     "output_type": "display_data"
    }
   ],
   "source": [
    "sns.set_style('whitegrid')\n",
    "sns.countplot(df['class'])\n",
    "plt.show()"
   ]
  },
  {
   "cell_type": "markdown",
   "metadata": {},
   "source": [
    "**Uneven classification (0 class is way more than class 1), model could be biased as there is less data available for class 1**"
   ]
  },
  {
   "cell_type": "code",
   "execution_count": 6,
   "metadata": {},
   "outputs": [
    {
     "data": {
      "text/plain": [
       "array(['MUSK-211', 'MUSK-212', 'MUSK-213', 'MUSK-214', 'MUSK-215',\n",
       "       'MUSK-217', 'MUSK-219', 'MUSK-224', 'MUSK-228', 'MUSK-238',\n",
       "       'MUSK-240', 'MUSK-256', 'MUSK-273', 'MUSK-284', 'MUSK-287',\n",
       "       'MUSK-294', 'MUSK-300', 'MUSK-306', 'MUSK-314', 'MUSK-321',\n",
       "       'MUSK-322', 'MUSK-323', 'MUSK-330', 'MUSK-331', 'MUSK-333',\n",
       "       'MUSK-344', 'MUSK-f152', 'MUSK-f158', 'MUSK-j33', 'MUSK-j51',\n",
       "       'MUSK-jf15', 'MUSK-jf17', 'MUSK-jf46', 'MUSK-jf47', 'MUSK-jf58',\n",
       "       'MUSK-jf59', 'MUSK-jf66', 'MUSK-jf67', 'MUSK-jf78', 'NON-MUSK-192',\n",
       "       'NON-MUSK-197', 'NON-MUSK-199', 'NON-MUSK-200', 'NON-MUSK-207',\n",
       "       'NON-MUSK-208', 'NON-MUSK-210', 'NON-MUSK-216', 'NON-MUSK-220',\n",
       "       'NON-MUSK-226', 'NON-MUSK-232', 'NON-MUSK-233', 'NON-MUSK-244',\n",
       "       'NON-MUSK-249', 'NON-MUSK-251', 'NON-MUSK-252', 'NON-MUSK-253',\n",
       "       'NON-MUSK-270', 'NON-MUSK-271', 'NON-MUSK-286', 'NON-MUSK-288',\n",
       "       'NON-MUSK-289', 'NON-MUSK-290', 'NON-MUSK-295', 'NON-MUSK-296',\n",
       "       'NON-MUSK-297', 'NON-MUSK-305', 'NON-MUSK-308', 'NON-MUSK-309',\n",
       "       'NON-MUSK-318', 'NON-MUSK-319', 'NON-MUSK-320', 'NON-MUSK-326',\n",
       "       'NON-MUSK-327', 'NON-MUSK-328', 'NON-MUSK-332', 'NON-MUSK-334',\n",
       "       'NON-MUSK-338', 'NON-MUSK-358', 'NON-MUSK-360', 'NON-MUSK-361',\n",
       "       'NON-MUSK-362', 'NON-MUSK-f146', 'NON-MUSK-f150', 'NON-MUSK-f161',\n",
       "       'NON-MUSK-f164', 'NON-MUSK-f209', 'NON-MUSK-j100', 'NON-MUSK-j129',\n",
       "       'NON-MUSK-j130', 'NON-MUSK-j146', 'NON-MUSK-j147', 'NON-MUSK-j148',\n",
       "       'NON-MUSK-j81', 'NON-MUSK-j83', 'NON-MUSK-j84', 'NON-MUSK-j90',\n",
       "       'NON-MUSK-j96', 'NON-MUSK-j97', 'NON-MUSK-jf18', 'NON-MUSK-jf79',\n",
       "       'NON-MUSK-jp10', 'NON-MUSK-jp13'], dtype=object)"
      ]
     },
     "execution_count": 6,
     "metadata": {},
     "output_type": "execute_result"
    }
   ],
   "source": [
    "df['molecule_name'].unique()"
   ]
  },
  {
   "cell_type": "markdown",
   "metadata": {},
   "source": [
    "**This column will not be used since its a language column**"
   ]
  },
  {
   "cell_type": "code",
   "execution_count": 7,
   "metadata": {},
   "outputs": [
    {
     "data": {
      "text/html": [
       "<div>\n",
       "<style scoped>\n",
       "    .dataframe tbody tr th:only-of-type {\n",
       "        vertical-align: middle;\n",
       "    }\n",
       "\n",
       "    .dataframe tbody tr th {\n",
       "        vertical-align: top;\n",
       "    }\n",
       "\n",
       "    .dataframe thead th {\n",
       "        text-align: right;\n",
       "    }\n",
       "</style>\n",
       "<table border=\"1\" class=\"dataframe\">\n",
       "  <thead>\n",
       "    <tr style=\"text-align: right;\">\n",
       "      <th></th>\n",
       "      <th>ID</th>\n",
       "      <th>f1</th>\n",
       "      <th>f2</th>\n",
       "      <th>f3</th>\n",
       "      <th>f4</th>\n",
       "      <th>f5</th>\n",
       "      <th>f6</th>\n",
       "      <th>f7</th>\n",
       "      <th>f8</th>\n",
       "      <th>f9</th>\n",
       "      <th>...</th>\n",
       "      <th>f158</th>\n",
       "      <th>f159</th>\n",
       "      <th>f160</th>\n",
       "      <th>f161</th>\n",
       "      <th>f162</th>\n",
       "      <th>f163</th>\n",
       "      <th>f164</th>\n",
       "      <th>f165</th>\n",
       "      <th>f166</th>\n",
       "      <th>class</th>\n",
       "    </tr>\n",
       "  </thead>\n",
       "  <tbody>\n",
       "    <tr>\n",
       "      <th>count</th>\n",
       "      <td>6598.00000</td>\n",
       "      <td>6598.000000</td>\n",
       "      <td>6598.000000</td>\n",
       "      <td>6598.000000</td>\n",
       "      <td>6598.000000</td>\n",
       "      <td>6598.000000</td>\n",
       "      <td>6598.000000</td>\n",
       "      <td>6598.000000</td>\n",
       "      <td>6598.000000</td>\n",
       "      <td>6598.000000</td>\n",
       "      <td>...</td>\n",
       "      <td>6598.000000</td>\n",
       "      <td>6598.000000</td>\n",
       "      <td>6598.000000</td>\n",
       "      <td>6598.000000</td>\n",
       "      <td>6598.000000</td>\n",
       "      <td>6598.000000</td>\n",
       "      <td>6598.000000</td>\n",
       "      <td>6598.000000</td>\n",
       "      <td>6598.000000</td>\n",
       "      <td>6598.000000</td>\n",
       "    </tr>\n",
       "    <tr>\n",
       "      <th>mean</th>\n",
       "      <td>3299.50000</td>\n",
       "      <td>58.945135</td>\n",
       "      <td>-119.128524</td>\n",
       "      <td>-73.146560</td>\n",
       "      <td>-0.628372</td>\n",
       "      <td>-103.533495</td>\n",
       "      <td>18.359806</td>\n",
       "      <td>-14.108821</td>\n",
       "      <td>-1.858290</td>\n",
       "      <td>-86.003031</td>\n",
       "      <td>...</td>\n",
       "      <td>-184.798272</td>\n",
       "      <td>-75.795696</td>\n",
       "      <td>-26.073204</td>\n",
       "      <td>64.616702</td>\n",
       "      <td>112.037739</td>\n",
       "      <td>201.760230</td>\n",
       "      <td>-47.488330</td>\n",
       "      <td>-150.259927</td>\n",
       "      <td>41.770233</td>\n",
       "      <td>0.154138</td>\n",
       "    </tr>\n",
       "    <tr>\n",
       "      <th>std</th>\n",
       "      <td>1904.82287</td>\n",
       "      <td>53.249007</td>\n",
       "      <td>90.813375</td>\n",
       "      <td>67.956235</td>\n",
       "      <td>80.444617</td>\n",
       "      <td>64.387559</td>\n",
       "      <td>80.593655</td>\n",
       "      <td>115.315673</td>\n",
       "      <td>90.372537</td>\n",
       "      <td>108.326676</td>\n",
       "      <td>...</td>\n",
       "      <td>107.819514</td>\n",
       "      <td>127.861271</td>\n",
       "      <td>69.727964</td>\n",
       "      <td>100.861935</td>\n",
       "      <td>72.835040</td>\n",
       "      <td>59.526751</td>\n",
       "      <td>55.069365</td>\n",
       "      <td>76.019023</td>\n",
       "      <td>94.116085</td>\n",
       "      <td>0.361108</td>\n",
       "    </tr>\n",
       "    <tr>\n",
       "      <th>min</th>\n",
       "      <td>1.00000</td>\n",
       "      <td>-31.000000</td>\n",
       "      <td>-199.000000</td>\n",
       "      <td>-167.000000</td>\n",
       "      <td>-114.000000</td>\n",
       "      <td>-118.000000</td>\n",
       "      <td>-183.000000</td>\n",
       "      <td>-171.000000</td>\n",
       "      <td>-225.000000</td>\n",
       "      <td>-245.000000</td>\n",
       "      <td>...</td>\n",
       "      <td>-328.000000</td>\n",
       "      <td>-219.000000</td>\n",
       "      <td>-136.000000</td>\n",
       "      <td>-120.000000</td>\n",
       "      <td>-69.000000</td>\n",
       "      <td>73.000000</td>\n",
       "      <td>-289.000000</td>\n",
       "      <td>-428.000000</td>\n",
       "      <td>-471.000000</td>\n",
       "      <td>0.000000</td>\n",
       "    </tr>\n",
       "    <tr>\n",
       "      <th>25%</th>\n",
       "      <td>1650.25000</td>\n",
       "      <td>37.000000</td>\n",
       "      <td>-193.000000</td>\n",
       "      <td>-137.000000</td>\n",
       "      <td>-70.000000</td>\n",
       "      <td>-117.000000</td>\n",
       "      <td>-28.000000</td>\n",
       "      <td>-159.000000</td>\n",
       "      <td>-85.000000</td>\n",
       "      <td>-217.000000</td>\n",
       "      <td>...</td>\n",
       "      <td>-272.000000</td>\n",
       "      <td>-205.000000</td>\n",
       "      <td>-70.000000</td>\n",
       "      <td>-18.000000</td>\n",
       "      <td>71.000000</td>\n",
       "      <td>166.000000</td>\n",
       "      <td>-68.000000</td>\n",
       "      <td>-179.000000</td>\n",
       "      <td>-9.000000</td>\n",
       "      <td>0.000000</td>\n",
       "    </tr>\n",
       "    <tr>\n",
       "      <th>50%</th>\n",
       "      <td>3299.50000</td>\n",
       "      <td>44.000000</td>\n",
       "      <td>-149.000000</td>\n",
       "      <td>-99.000000</td>\n",
       "      <td>-25.000000</td>\n",
       "      <td>-117.000000</td>\n",
       "      <td>33.000000</td>\n",
       "      <td>27.000000</td>\n",
       "      <td>19.000000</td>\n",
       "      <td>-40.000000</td>\n",
       "      <td>...</td>\n",
       "      <td>-234.000000</td>\n",
       "      <td>-131.000000</td>\n",
       "      <td>-21.000000</td>\n",
       "      <td>61.500000</td>\n",
       "      <td>107.000000</td>\n",
       "      <td>191.000000</td>\n",
       "      <td>-60.000000</td>\n",
       "      <td>-150.000000</td>\n",
       "      <td>27.000000</td>\n",
       "      <td>0.000000</td>\n",
       "    </tr>\n",
       "    <tr>\n",
       "      <th>75%</th>\n",
       "      <td>4948.75000</td>\n",
       "      <td>53.000000</td>\n",
       "      <td>-95.000000</td>\n",
       "      <td>-19.000000</td>\n",
       "      <td>42.000000</td>\n",
       "      <td>-116.000000</td>\n",
       "      <td>74.000000</td>\n",
       "      <td>57.000000</td>\n",
       "      <td>61.000000</td>\n",
       "      <td>-21.000000</td>\n",
       "      <td>...</td>\n",
       "      <td>-80.000000</td>\n",
       "      <td>52.000000</td>\n",
       "      <td>9.000000</td>\n",
       "      <td>149.000000</td>\n",
       "      <td>129.000000</td>\n",
       "      <td>215.000000</td>\n",
       "      <td>-45.000000</td>\n",
       "      <td>-120.000000</td>\n",
       "      <td>119.000000</td>\n",
       "      <td>0.000000</td>\n",
       "    </tr>\n",
       "    <tr>\n",
       "      <th>max</th>\n",
       "      <td>6598.00000</td>\n",
       "      <td>292.000000</td>\n",
       "      <td>95.000000</td>\n",
       "      <td>81.000000</td>\n",
       "      <td>161.000000</td>\n",
       "      <td>325.000000</td>\n",
       "      <td>200.000000</td>\n",
       "      <td>220.000000</td>\n",
       "      <td>320.000000</td>\n",
       "      <td>147.000000</td>\n",
       "      <td>...</td>\n",
       "      <td>94.000000</td>\n",
       "      <td>179.000000</td>\n",
       "      <td>192.000000</td>\n",
       "      <td>411.000000</td>\n",
       "      <td>355.000000</td>\n",
       "      <td>625.000000</td>\n",
       "      <td>295.000000</td>\n",
       "      <td>168.000000</td>\n",
       "      <td>367.000000</td>\n",
       "      <td>1.000000</td>\n",
       "    </tr>\n",
       "  </tbody>\n",
       "</table>\n",
       "<p>8 rows × 168 columns</p>\n",
       "</div>"
      ],
      "text/plain": [
       "               ID           f1           f2           f3           f4  \\\n",
       "count  6598.00000  6598.000000  6598.000000  6598.000000  6598.000000   \n",
       "mean   3299.50000    58.945135  -119.128524   -73.146560    -0.628372   \n",
       "std    1904.82287    53.249007    90.813375    67.956235    80.444617   \n",
       "min       1.00000   -31.000000  -199.000000  -167.000000  -114.000000   \n",
       "25%    1650.25000    37.000000  -193.000000  -137.000000   -70.000000   \n",
       "50%    3299.50000    44.000000  -149.000000   -99.000000   -25.000000   \n",
       "75%    4948.75000    53.000000   -95.000000   -19.000000    42.000000   \n",
       "max    6598.00000   292.000000    95.000000    81.000000   161.000000   \n",
       "\n",
       "                f5           f6           f7           f8           f9  ...  \\\n",
       "count  6598.000000  6598.000000  6598.000000  6598.000000  6598.000000  ...   \n",
       "mean   -103.533495    18.359806   -14.108821    -1.858290   -86.003031  ...   \n",
       "std      64.387559    80.593655   115.315673    90.372537   108.326676  ...   \n",
       "min    -118.000000  -183.000000  -171.000000  -225.000000  -245.000000  ...   \n",
       "25%    -117.000000   -28.000000  -159.000000   -85.000000  -217.000000  ...   \n",
       "50%    -117.000000    33.000000    27.000000    19.000000   -40.000000  ...   \n",
       "75%    -116.000000    74.000000    57.000000    61.000000   -21.000000  ...   \n",
       "max     325.000000   200.000000   220.000000   320.000000   147.000000  ...   \n",
       "\n",
       "              f158         f159         f160         f161         f162  \\\n",
       "count  6598.000000  6598.000000  6598.000000  6598.000000  6598.000000   \n",
       "mean   -184.798272   -75.795696   -26.073204    64.616702   112.037739   \n",
       "std     107.819514   127.861271    69.727964   100.861935    72.835040   \n",
       "min    -328.000000  -219.000000  -136.000000  -120.000000   -69.000000   \n",
       "25%    -272.000000  -205.000000   -70.000000   -18.000000    71.000000   \n",
       "50%    -234.000000  -131.000000   -21.000000    61.500000   107.000000   \n",
       "75%     -80.000000    52.000000     9.000000   149.000000   129.000000   \n",
       "max      94.000000   179.000000   192.000000   411.000000   355.000000   \n",
       "\n",
       "              f163         f164         f165         f166        class  \n",
       "count  6598.000000  6598.000000  6598.000000  6598.000000  6598.000000  \n",
       "mean    201.760230   -47.488330  -150.259927    41.770233     0.154138  \n",
       "std      59.526751    55.069365    76.019023    94.116085     0.361108  \n",
       "min      73.000000  -289.000000  -428.000000  -471.000000     0.000000  \n",
       "25%     166.000000   -68.000000  -179.000000    -9.000000     0.000000  \n",
       "50%     191.000000   -60.000000  -150.000000    27.000000     0.000000  \n",
       "75%     215.000000   -45.000000  -120.000000   119.000000     0.000000  \n",
       "max     625.000000   295.000000   168.000000   367.000000     1.000000  \n",
       "\n",
       "[8 rows x 168 columns]"
      ]
     },
     "execution_count": 7,
     "metadata": {},
     "output_type": "execute_result"
    }
   ],
   "source": [
    "df.describe()"
   ]
  },
  {
   "cell_type": "markdown",
   "metadata": {},
   "source": [
    "**Data has large distribution range of mean and std therefore preprocessing is needed to standardize data**"
   ]
  },
  {
   "cell_type": "markdown",
   "metadata": {},
   "source": [
    "# Preprocessing"
   ]
  },
  {
   "cell_type": "markdown",
   "metadata": {},
   "source": [
    "**Before standardization, data is to be split between training and validation set with 4:1 ratio**"
   ]
  },
  {
   "cell_type": "code",
   "execution_count": 10,
   "metadata": {},
   "outputs": [],
   "source": [
    "from sklearn.model_selection import train_test_split\n",
    "x = df.drop(['ID', 'molecule_name','conformation_name', 'class'], axis=1)\n",
    "y = df['class']\n",
    "x_train, x_valid, y_train, y_valid = train_test_split(x, y, test_size=0.2)"
   ]
  },
  {
   "cell_type": "markdown",
   "metadata": {},
   "source": [
    "**Importing standardizing library**"
   ]
  },
  {
   "cell_type": "code",
   "execution_count": 11,
   "metadata": {},
   "outputs": [],
   "source": [
    "from sklearn.preprocessing import StandardScaler"
   ]
  },
  {
   "cell_type": "code",
   "execution_count": 12,
   "metadata": {},
   "outputs": [],
   "source": [
    "sc = StandardScaler()\n",
    "x_train = sc.fit_transform(x_train)\n",
    "# inorder to prevent data leakage from x_valid, only transform function is used inplace of fit_transform\n",
    "x_valid = sc.transform(x_valid)"
   ]
  },
  {
   "cell_type": "markdown",
   "metadata": {},
   "source": [
    "# Developing Artificial Neural Network\n",
    "**Before actual developing model we need to check its average accuracy by using 'cross_val_score'**"
   ]
  },
  {
   "cell_type": "code",
   "execution_count": 13,
   "metadata": {},
   "outputs": [],
   "source": [
    "from tensorflow import keras\n",
    "from tensorflow.keras.wrappers.scikit_learn import KerasClassifier"
   ]
  },
  {
   "cell_type": "code",
   "execution_count": 14,
   "metadata": {},
   "outputs": [],
   "source": [
    " def test_model():\n",
    "    ann = keras.models.Sequential()\n",
    "    ann.add(keras.layers.Dense(units=64,activation='relu'))\n",
    "    ann.add(keras.layers.Dropout(rate=0.20))\n",
    "    ann.add(keras.layers.Dense(units=64,activation='relu'))\n",
    "    ann.add(keras.layers.Dropout(rate=0.20))\n",
    "    ann.add(keras.layers.Dense(units=64,activation='relu'))\n",
    "    ann.add(keras.layers.Dropout(rate=0.20))\n",
    "    ann.add(keras.layers.Dense(units=1, activation='sigmoid'))\n",
    "    ann.compile(optimizer='adam', loss='binary_crossentropy', metrics=['accuracy'])\n",
    "    return ann"
   ]
  },
  {
   "cell_type": "code",
   "execution_count": 15,
   "metadata": {},
   "outputs": [],
   "source": [
    "ann = KerasClassifier(build_fn = test_model,\n",
    "                      batch_size = 32,\n",
    "                      epochs = 15)\n",
    "from sklearn.model_selection import cross_val_score\n",
    "score = cross_val_score(ann, x_train, y_train, cv=10, n_jobs=-1, scoring='accuracy')"
   ]
  },
  {
   "cell_type": "code",
   "execution_count": 16,
   "metadata": {},
   "outputs": [
    {
     "data": {
      "text/plain": [
       "0.9861681329423264"
      ]
     },
     "execution_count": 16,
     "metadata": {},
     "output_type": "execute_result"
    }
   ],
   "source": [
    "score.mean()"
   ]
  },
  {
   "cell_type": "markdown",
   "metadata": {},
   "source": [
    "--- Mean accuracy came to be quite high! ---\n",
    "\n",
    "**Now lets improve the accuracy further by implementing 'RandomizedSearchCV'**"
   ]
  },
  {
   "cell_type": "code",
   "execution_count": 17,
   "metadata": {},
   "outputs": [],
   "source": [
    "def opti_model(optimizer):\n",
    "    ann = keras.models.Sequential()\n",
    "    ann.add(keras.layers.Dense(units=64,activation='relu'))\n",
    "    ann.add(keras.layers.Dropout(rate=0.20))\n",
    "    ann.add(keras.layers.Dense(units=64,activation='relu'))\n",
    "    ann.add(keras.layers.Dropout(rate=0.20))\n",
    "    ann.add(keras.layers.Dense(units=64,activation='relu'))\n",
    "    ann.add(keras.layers.Dropout(rate=0.20))\n",
    "    ann.add(keras.layers.Dense(units=1, activation='sigmoid'))\n",
    "    ann.compile(optimizer=optimizer, loss ='binary_crossentropy', metrics=['accuracy'])\n",
    "    return ann"
   ]
  },
  {
   "cell_type": "code",
   "execution_count": 18,
   "metadata": {},
   "outputs": [],
   "source": [
    "from sklearn.model_selection import RandomizedSearchCV"
   ]
  },
  {
   "cell_type": "code",
   "execution_count": 19,
   "metadata": {},
   "outputs": [
    {
     "name": "stdout",
     "output_type": "stream",
     "text": [
      "Fitting 10 folds for each of 10 candidates, totalling 100 fits\n"
     ]
    },
    {
     "name": "stderr",
     "output_type": "stream",
     "text": [
      "[Parallel(n_jobs=-1)]: Using backend LokyBackend with 4 concurrent workers.\n",
      "[Parallel(n_jobs=-1)]: Done  17 tasks      | elapsed:   48.4s\n",
      "[Parallel(n_jobs=-1)]: Done  90 tasks      | elapsed:  4.3min\n",
      "[Parallel(n_jobs=-1)]: Done 100 out of 100 | elapsed:  4.9min finished\n"
     ]
    },
    {
     "name": "stdout",
     "output_type": "stream",
     "text": [
      "Epoch 1/35\n",
      "132/132 [==============================] - 0s 1ms/step - loss: 0.2883 - accuracy: 0.8719\n",
      "Epoch 2/35\n",
      "132/132 [==============================] - 0s 2ms/step - loss: 0.1481 - accuracy: 0.9462\n",
      "Epoch 3/35\n",
      "132/132 [==============================] - 0s 2ms/step - loss: 0.1065 - accuracy: 0.9568\n",
      "Epoch 4/35\n",
      "132/132 [==============================] - 0s 2ms/step - loss: 0.0857 - accuracy: 0.9661\n",
      "Epoch 5/35\n",
      "132/132 [==============================] - 0s 2ms/step - loss: 0.0709 - accuracy: 0.9712\n",
      "Epoch 6/35\n",
      "132/132 [==============================] - 0s 2ms/step - loss: 0.0647 - accuracy: 0.9742\n",
      "Epoch 7/35\n",
      "132/132 [==============================] - 0s 2ms/step - loss: 0.0551 - accuracy: 0.9792\n",
      "Epoch 8/35\n",
      "132/132 [==============================] - 0s 2ms/step - loss: 0.0487 - accuracy: 0.9822\n",
      "Epoch 9/35\n",
      "132/132 [==============================] - 0s 2ms/step - loss: 0.0439 - accuracy: 0.9831\n",
      "Epoch 10/35\n",
      "132/132 [==============================] - 0s 2ms/step - loss: 0.0359 - accuracy: 0.9854\n",
      "Epoch 11/35\n",
      "132/132 [==============================] - 0s 2ms/step - loss: 0.0356 - accuracy: 0.9852\n",
      "Epoch 12/35\n",
      "132/132 [==============================] - 0s 2ms/step - loss: 0.0358 - accuracy: 0.9858\n",
      "Epoch 13/35\n",
      "132/132 [==============================] - 0s 2ms/step - loss: 0.0302 - accuracy: 0.9883\n",
      "Epoch 14/35\n",
      "132/132 [==============================] - 0s 3ms/step - loss: 0.0219 - accuracy: 0.9932\n",
      "Epoch 15/35\n",
      "132/132 [==============================] - 0s 2ms/step - loss: 0.0225 - accuracy: 0.9913\n",
      "Epoch 16/35\n",
      "132/132 [==============================] - 0s 2ms/step - loss: 0.0254 - accuracy: 0.9903\n",
      "Epoch 17/35\n",
      "132/132 [==============================] - 0s 2ms/step - loss: 0.0197 - accuracy: 0.9928\n",
      "Epoch 18/35\n",
      "132/132 [==============================] - 0s 2ms/step - loss: 0.0170 - accuracy: 0.9939\n",
      "Epoch 19/35\n",
      "132/132 [==============================] - 0s 2ms/step - loss: 0.0207 - accuracy: 0.9932\n",
      "Epoch 20/35\n",
      "132/132 [==============================] - 0s 2ms/step - loss: 0.0214 - accuracy: 0.9924\n",
      "Epoch 21/35\n",
      "132/132 [==============================] - 0s 2ms/step - loss: 0.0145 - accuracy: 0.9943\n",
      "Epoch 22/35\n",
      "132/132 [==============================] - 0s 2ms/step - loss: 0.0184 - accuracy: 0.9937\n",
      "Epoch 23/35\n",
      "132/132 [==============================] - 0s 2ms/step - loss: 0.0126 - accuracy: 0.9964\n",
      "Epoch 24/35\n",
      "132/132 [==============================] - 0s 2ms/step - loss: 0.0154 - accuracy: 0.9936\n",
      "Epoch 25/35\n",
      "132/132 [==============================] - 0s 2ms/step - loss: 0.0135 - accuracy: 0.9958\n",
      "Epoch 26/35\n",
      "132/132 [==============================] - 0s 2ms/step - loss: 0.0130 - accuracy: 0.9949\n",
      "Epoch 27/35\n",
      "132/132 [==============================] - 0s 2ms/step - loss: 0.0117 - accuracy: 0.9953\n",
      "Epoch 28/35\n",
      "132/132 [==============================] - 0s 2ms/step - loss: 0.0132 - accuracy: 0.9964\n",
      "Epoch 29/35\n",
      "132/132 [==============================] - 0s 2ms/step - loss: 0.0153 - accuracy: 0.9953\n",
      "Epoch 30/35\n",
      "132/132 [==============================] - 0s 1ms/step - loss: 0.0161 - accuracy: 0.9937\n",
      "Epoch 31/35\n",
      "132/132 [==============================] - 0s 1ms/step - loss: 0.0115 - accuracy: 0.9955\n",
      "Epoch 32/35\n",
      "132/132 [==============================] - 0s 2ms/step - loss: 0.0096 - accuracy: 0.9964\n",
      "Epoch 33/35\n",
      "132/132 [==============================] - 0s 2ms/step - loss: 0.0098 - accuracy: 0.9972\n",
      "Epoch 34/35\n",
      "132/132 [==============================] - 0s 2ms/step - loss: 0.0068 - accuracy: 0.9981\n",
      "Epoch 35/35\n",
      "132/132 [==============================] - 0s 2ms/step - loss: 0.0063 - accuracy: 0.9981\n"
     ]
    }
   ],
   "source": [
    "grid_params = {'batch_size':[25,32,40,64],\n",
    "               'epochs':[15,25,35,10],\n",
    "               'optimizer':['adam','rmsprop', 'Nadam', 'SGD']}\n",
    "classifier = KerasClassifier(build_fn = opti_model)\n",
    "grid_search = RandomizedSearchCV(estimator = classifier, param_distributions = grid_params,\n",
    "                                 verbose=4, refit=True, scoring='accuracy', cv=10, n_jobs=-1)\n",
    "grid_search.fit(x_train,y_train)"
   ]
  },
  {
   "cell_type": "markdown",
   "metadata": {},
   "source": [
    "Getting the best parameters"
   ]
  },
  {
   "cell_type": "code",
   "execution_count": 21,
   "metadata": {},
   "outputs": [
    {
     "data": {
      "text/plain": [
       "{'optimizer': 'Nadam', 'epochs': 35, 'batch_size': 40}"
      ]
     },
     "execution_count": 21,
     "metadata": {},
     "output_type": "execute_result"
    }
   ],
   "source": [
    "parameters = grid_search.best_params_\n",
    "parameters"
   ]
  },
  {
   "cell_type": "markdown",
   "metadata": {},
   "source": [
    "**As we have to display graphs, we need to use 'callback', which can't be used with randomized search CV (too cumbersome), therefore we need to make a new model with the parameters provided with 'RandomizedSearchCV' and perform further actions on it**"
   ]
  },
  {
   "cell_type": "markdown",
   "metadata": {},
   "source": [
    "_Making new model_"
   ]
  },
  {
   "cell_type": "code",
   "execution_count": 22,
   "metadata": {},
   "outputs": [],
   "source": [
    "ann = keras.models.Sequential()\n",
    "ann.add(keras.layers.Dense(units=64,activation='relu'))\n",
    "ann.add(keras.layers.Dropout(rate=0.20))\n",
    "ann.add(keras.layers.Dense(units=64,activation='relu'))\n",
    "ann.add(keras.layers.Dropout(rate=0.20))\n",
    "ann.add(keras.layers.Dense(units=64,activation='relu'))\n",
    "ann.add(keras.layers.Dropout(rate=0.20))\n",
    "ann.add(keras.layers.Dense(units=1, activation='sigmoid'))\n",
    "ann.compile(optimizer=parameters['optimizer'], loss ='binary_crossentropy', metrics=['accuracy'])"
   ]
  },
  {
   "cell_type": "markdown",
   "metadata": {},
   "source": [
    "Fitting data on model and using history to record verbose data for each epoch"
   ]
  },
  {
   "cell_type": "code",
   "execution_count": 23,
   "metadata": {},
   "outputs": [
    {
     "name": "stdout",
     "output_type": "stream",
     "text": [
      "Epoch 1/35\n",
      "132/132 [==============================] - 0s 3ms/step - loss: 0.2875 - accuracy: 0.8778 - val_loss: 0.1782 - val_accuracy: 0.9273\n",
      "Epoch 2/35\n",
      "132/132 [==============================] - 0s 2ms/step - loss: 0.1506 - accuracy: 0.9451 - val_loss: 0.1339 - val_accuracy: 0.9530\n",
      "Epoch 3/35\n",
      "132/132 [==============================] - 0s 2ms/step - loss: 0.1040 - accuracy: 0.9631 - val_loss: 0.1004 - val_accuracy: 0.9606\n",
      "Epoch 4/35\n",
      "132/132 [==============================] - 0s 2ms/step - loss: 0.0868 - accuracy: 0.9672 - val_loss: 0.0840 - val_accuracy: 0.9644\n",
      "Epoch 5/35\n",
      "132/132 [==============================] - 0s 2ms/step - loss: 0.0680 - accuracy: 0.9737 - val_loss: 0.0831 - val_accuracy: 0.9598\n",
      "Epoch 6/35\n",
      "132/132 [==============================] - 0s 2ms/step - loss: 0.0584 - accuracy: 0.9776 - val_loss: 0.0716 - val_accuracy: 0.9682\n",
      "Epoch 7/35\n",
      "132/132 [==============================] - 0s 2ms/step - loss: 0.0520 - accuracy: 0.9780 - val_loss: 0.0645 - val_accuracy: 0.9742\n",
      "Epoch 8/35\n",
      "132/132 [==============================] - 0s 2ms/step - loss: 0.0459 - accuracy: 0.9824 - val_loss: 0.0600 - val_accuracy: 0.9720\n",
      "Epoch 9/35\n",
      "132/132 [==============================] - 0s 2ms/step - loss: 0.0426 - accuracy: 0.9816 - val_loss: 0.0535 - val_accuracy: 0.9758\n",
      "Epoch 10/35\n",
      "132/132 [==============================] - 0s 2ms/step - loss: 0.0371 - accuracy: 0.9858 - val_loss: 0.0540 - val_accuracy: 0.9765\n",
      "Epoch 11/35\n",
      "132/132 [==============================] - 0s 2ms/step - loss: 0.0319 - accuracy: 0.9877 - val_loss: 0.0417 - val_accuracy: 0.9795\n",
      "Epoch 12/35\n",
      "132/132 [==============================] - 0s 2ms/step - loss: 0.0273 - accuracy: 0.9883 - val_loss: 0.0550 - val_accuracy: 0.9788\n",
      "Epoch 13/35\n",
      "132/132 [==============================] - 0s 3ms/step - loss: 0.0285 - accuracy: 0.9890 - val_loss: 0.0508 - val_accuracy: 0.9803\n",
      "Epoch 14/35\n",
      "132/132 [==============================] - 0s 3ms/step - loss: 0.0212 - accuracy: 0.9915 - val_loss: 0.0417 - val_accuracy: 0.9871\n",
      "Epoch 15/35\n",
      "132/132 [==============================] - 0s 3ms/step - loss: 0.0232 - accuracy: 0.9915 - val_loss: 0.0464 - val_accuracy: 0.9773\n",
      "Epoch 16/35\n",
      "132/132 [==============================] - 0s 2ms/step - loss: 0.0225 - accuracy: 0.9926 - val_loss: 0.0468 - val_accuracy: 0.9811\n",
      "Epoch 17/35\n",
      "132/132 [==============================] - 0s 2ms/step - loss: 0.0115 - accuracy: 0.9973 - val_loss: 0.0454 - val_accuracy: 0.9879\n",
      "Epoch 18/35\n",
      "132/132 [==============================] - 0s 2ms/step - loss: 0.0195 - accuracy: 0.9934 - val_loss: 0.0854 - val_accuracy: 0.9780\n",
      "Epoch 19/35\n",
      "132/132 [==============================] - 0s 2ms/step - loss: 0.0262 - accuracy: 0.9909 - val_loss: 0.0461 - val_accuracy: 0.9848\n",
      "Epoch 20/35\n",
      "132/132 [==============================] - 0s 2ms/step - loss: 0.0155 - accuracy: 0.9949 - val_loss: 0.0296 - val_accuracy: 0.9924\n",
      "Epoch 21/35\n",
      "132/132 [==============================] - 0s 2ms/step - loss: 0.0166 - accuracy: 0.9951 - val_loss: 0.0427 - val_accuracy: 0.9848\n",
      "Epoch 22/35\n",
      "132/132 [==============================] - 0s 2ms/step - loss: 0.0153 - accuracy: 0.9943 - val_loss: 0.0416 - val_accuracy: 0.9879\n",
      "Epoch 23/35\n",
      "132/132 [==============================] - 0s 2ms/step - loss: 0.0138 - accuracy: 0.9951 - val_loss: 0.0464 - val_accuracy: 0.9879\n",
      "Epoch 24/35\n",
      "132/132 [==============================] - 0s 2ms/step - loss: 0.0186 - accuracy: 0.9945 - val_loss: 0.0278 - val_accuracy: 0.9886\n",
      "Epoch 25/35\n",
      "132/132 [==============================] - 0s 2ms/step - loss: 0.0165 - accuracy: 0.9949 - val_loss: 0.0373 - val_accuracy: 0.9856\n",
      "Epoch 26/35\n",
      "132/132 [==============================] - 0s 2ms/step - loss: 0.0113 - accuracy: 0.9958 - val_loss: 0.0276 - val_accuracy: 0.9932\n",
      "Epoch 27/35\n",
      "132/132 [==============================] - 0s 2ms/step - loss: 0.0094 - accuracy: 0.9970 - val_loss: 0.0300 - val_accuracy: 0.9902\n",
      "Epoch 28/35\n",
      "132/132 [==============================] - 0s 2ms/step - loss: 0.0105 - accuracy: 0.9964 - val_loss: 0.0268 - val_accuracy: 0.9947\n",
      "Epoch 29/35\n",
      "132/132 [==============================] - 0s 2ms/step - loss: 0.0072 - accuracy: 0.9977 - val_loss: 0.0222 - val_accuracy: 0.9962\n",
      "Epoch 30/35\n",
      "132/132 [==============================] - 0s 2ms/step - loss: 0.0107 - accuracy: 0.9958 - val_loss: 0.0335 - val_accuracy: 0.9871\n",
      "Epoch 31/35\n",
      "132/132 [==============================] - 0s 2ms/step - loss: 0.0182 - accuracy: 0.9934 - val_loss: 0.0399 - val_accuracy: 0.9879\n",
      "Epoch 32/35\n",
      "132/132 [==============================] - 0s 2ms/step - loss: 0.0118 - accuracy: 0.9956 - val_loss: 0.0303 - val_accuracy: 0.9939\n",
      "Epoch 33/35\n",
      "132/132 [==============================] - 0s 2ms/step - loss: 0.0137 - accuracy: 0.9945 - val_loss: 0.0390 - val_accuracy: 0.9909\n",
      "Epoch 34/35\n",
      "132/132 [==============================] - 0s 2ms/step - loss: 0.0117 - accuracy: 0.9956 - val_loss: 0.0240 - val_accuracy: 0.9939\n",
      "Epoch 35/35\n",
      "132/132 [==============================] - 0s 2ms/step - loss: 0.0115 - accuracy: 0.9958 - val_loss: 0.0208 - val_accuracy: 0.9909\n"
     ]
    }
   ],
   "source": [
    "history = ann.fit(x_train, y_train,\n",
    "                  batch_size = parameters['batch_size'],\n",
    "                  epochs = parameters['epochs'],\n",
    "                  validation_data=(x_valid,y_valid))"
   ]
  },
  {
   "cell_type": "code",
   "execution_count": 24,
   "metadata": {},
   "outputs": [
    {
     "data": {
      "text/plain": [
       "dict_keys(['loss', 'accuracy', 'val_loss', 'val_accuracy'])"
      ]
     },
     "execution_count": 24,
     "metadata": {},
     "output_type": "execute_result"
    }
   ],
   "source": [
    "history.history.keys()"
   ]
  },
  {
   "cell_type": "markdown",
   "metadata": {},
   "source": [
    "**Making plots for accuracy and loss against epochs**"
   ]
  },
  {
   "cell_type": "markdown",
   "metadata": {},
   "source": [
    "# Loss v/s Epoch graph "
   ]
  },
  {
   "cell_type": "code",
   "execution_count": 35,
   "metadata": {},
   "outputs": [
    {
     "data": {
      "image/png": "[encoded data removed]",
      "text/plain": [
       "<Figure size 600x400 with 1 Axes>"
      ]
     },
     "metadata": {},
     "output_type": "display_data"
    }
   ],
   "source": [
    "plt.figure(dpi=100)\n",
    "plt.plot(range(1,36),history.history['loss'],label='training')\n",
    "plt.plot(range(1,36), history.history['val_loss'],label='validation')\n",
    "plt.xlabel('EPOCHS ---> ')\n",
    "plt.ylabel('LOSS ---> ')\n",
    "plt.title('Loss v/s Epochs')\n",
    "plt.legend(loc=0)\n",
    "plt.show()"
   ]
  },
  {
   "cell_type": "markdown",
   "metadata": {},
   "source": [
    "# Accuracy v/s Epoch graph"
   ]
  },
  {
   "cell_type": "code",
   "execution_count": 36,
   "metadata": {},
   "outputs": [
    {
     "data": {
      "image/png": "[encoded data removed]",
      "text/plain": [
       "<Figure size 600x400 with 1 Axes>"
      ]
     },
     "metadata": {},
     "output_type": "display_data"
    }
   ],
   "source": [
    "plt.figure(dpi=100)\n",
    "plt.plot(range(1,36),history.history['accuracy'],label='training')\n",
    "plt.plot(range(1,36), history.history['val_accuracy'],label='validation')\n",
    "plt.xlabel('EPOCHS ---> ')\n",
    "plt.ylabel('ACCURACY ---> ')\n",
    "plt.title('Accuracy v/s Epochs')\n",
    "plt.legend(loc=0)\n",
    "plt.show()"
   ]
  },
  {
   "cell_type": "markdown",
   "metadata": {},
   "source": [
    "**Making classification prediction for validation data**"
   ]
  },
  {
   "cell_type": "code",
   "execution_count": 37,
   "metadata": {},
   "outputs": [],
   "source": [
    "pred = ann.predict(x_valid)\n",
    "pred = pred > 0.45"
   ]
  },
  {
   "cell_type": "code",
   "execution_count": 38,
   "metadata": {},
   "outputs": [],
   "source": [
    "from sklearn.metrics import classification_report"
   ]
  },
  {
   "cell_type": "markdown",
   "metadata": {},
   "source": [
    "# Printing classification report for model"
   ]
  },
  {
   "cell_type": "code",
   "execution_count": 39,
   "metadata": {},
   "outputs": [
    {
     "name": "stdout",
     "output_type": "stream",
     "text": [
      "              precision    recall  f1-score   support\n",
      "\n",
      "           0       0.99      1.00      1.00      1105\n",
      "           1       0.99      0.97      0.98       215\n",
      "\n",
      "    accuracy                           0.99      1320\n",
      "   macro avg       0.99      0.98      0.99      1320\n",
      "weighted avg       0.99      0.99      0.99      1320\n",
      "\n"
     ]
    }
   ],
   "source": [
    "print(classification_report(y_valid,pred))"
   ]
  },
  {
   "cell_type": "markdown",
   "metadata": {},
   "source": [
    "**As evident from the result:\n",
    "The model performs very well on the data and achieves an accuracy of 99% and even class 1 classification has good precision and recall inspite of minuscule class 1 examples in comparision to class 0**"
   ]
  },
  {
   "cell_type": "markdown",
   "metadata": {},
   "source": [
    "# REPORT"
   ]
  },
  {
   "cell_type": "markdown",
   "metadata": {},
   "source": [
    "As evident from the countplot, the data set has uneven classification. Class 0 has excessive examples compared to class 1.\n",
    "\n",
    "**Preprocessing:**\n",
    "\n",
    "In order to implement neural network successfully, dataset should be scaled and thereby all the datapoints are in the same range. 'StandardScaler' library was used to scale down the data and only training data was fitted along being transformed with the scaler object, validation data was only transformed. This was done to ensure that there is no data leakage from validation set."
   ]
  },
  {
   "cell_type": "markdown",
   "metadata": {},
   "source": [
    "**Mean accuracy score**\n",
    "\n",
    "Before actually making the model its necessary to find its average accuracy score so that there is some sort of reference for the performance of the actual model. Mean accuracy came to be 98%, which was quite high. Thus the model should have an accuracy close to 98%"
   ]
  },
  {
   "cell_type": "markdown",
   "metadata": {},
   "source": [
    "**Tuning model parameters**\n",
    "\n",
    "The model used in mean accuracy was pretty much streamlined, but to further improve its accuracy and performance _'RandomizedSearchCV'_ is used, the main reason of using it against _'GridSearchCV'_ is the shear size of the dataset and the many parameters involved. Therefore _RandomizedSearchCV_ is used to provide with the best paramenters for the model. "
   ]
  },
  {
   "cell_type": "markdown",
   "metadata": {},
   "source": [
    "**Making Final Model**\n",
    "\n",
    "_RandomizedSearchCV_ object could have been used for carrying out various performance measurement on the validation dataset. But due to the task of plotting graph for accuracy and loss against epoch, new model was needed. 'history' stored all the loss, accuracy data for each epoch when the final model made with parameters provided with _Random Search_ was fitted with training data and validation data"
   ]
  },
  {
   "cell_type": "markdown",
   "metadata": {},
   "source": [
    "_Plots of Accuracy and Loss are plotted above_"
   ]
  },
  {
   "cell_type": "markdown",
   "metadata": {},
   "source": [
    "**Performance measures**\n",
    "\n",
    "The dataset provided had uneven classification therefore using accuracy for evaluating its performance is not a wise decision. As is demostrated by snippet below:"
   ]
  },
  {
   "cell_type": "code",
   "execution_count": 40,
   "metadata": {},
   "outputs": [
    {
     "name": "stdout",
     "output_type": "stream",
     "text": [
      "0.8371212121212122\n"
     ]
    }
   ],
   "source": [
    "test_pred = y_valid*0\n",
    "from sklearn.metrics import accuracy_score\n",
    "print(accuracy_score(y_valid,test_pred))"
   ]
  },
  {
   "cell_type": "markdown",
   "metadata": {},
   "source": [
    "This clearly indicates the irrelevance of accuracy is in this case. A very simple code of classifying each validation dataset as non-musk (class 0) gave the accuracy of 83.7%, this in the field of machine learning is considered as excellent accuracy. but as we can see this is so wrong and completely useless. Therefore more attention need to be paid on recall, precision score for such datasets.\n",
    "\n",
    "_The final model gives very good precision and recall scores. Precision score is 99% for both class 1 (musk) and class 0 (non-musk). Recall score is 100% for class 0 (non-musk) and 97% for class 1 (musk). Even though there are less examples of class 1 (musk), still model provides with excellent precision and recall score. F1 score for class 0 (non-musk) is 100% and for class 1 (musk) is 98%. The overall efficiency came out to be 99%_"
   ]
  },
  {
   "cell_type": "code",
   "execution_count": null,
   "metadata": {},
   "outputs": [],
   "source": []
  }
 ],
 "metadata": {
  "kernelspec": {
   "display_name": "Python 3",
   "language": "python",
   "name": "python3"
  },
  "language_info": {
   "codemirror_mode": {
    "name": "ipython",
    "version": 3
   },
   "file_extension": ".py",
   "mimetype": "text/x-python",
   "name": "python",
   "nbconvert_exporter": "python",
   "pygments_lexer": "ipython3",
   "version": "3.6.10"
  }
 },
 "nbformat": 4,
 "nbformat_minor": 4
}
